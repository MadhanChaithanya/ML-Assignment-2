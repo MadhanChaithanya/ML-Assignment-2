{
 "cells": [
  {
   "cell_type": "markdown",
   "metadata": {},
   "source": [
    "# Assignment - 2 ( Task - 1 )"
   ]
  },
  {
   "cell_type": "markdown",
   "metadata": {},
   "source": [
    "Question - 1.1:\n",
    "\n",
    "Write a Python Program to implement your own myreduce() function which works exactly like Python's built-in function reduce() "
   ]
  },
  {
   "cell_type": "code",
   "execution_count": 4,
   "metadata": {},
   "outputs": [
    {
     "name": "stdout",
     "output_type": "stream",
     "text": [
      "Sum on list [2,3,4,5,6] using custom reduce function 20\n"
     ]
    }
   ],
   "source": [
    "# Reduce will produce a single result\n",
    "def myreduce(anyfunc, sequence):\n",
    " # Get first item in sequence and assign to result\n",
    "  result = sequence[0]\n",
    " # iterate over remaining items in sequence and apply reduction function \n",
    "  for item in sequence[1:]:\n",
    "   result = anyfunc(result, item)\n",
    "\n",
    "  return result\n",
    "\n",
    "# test myreduce function\n",
    "def sum(x,y): return x + y\n",
    "\n",
    "print (\"Sum on list [2,3,4,5,6] using custom reduce function \" + str(myreduce(sum, [2,3,4,5,6])) )"
   ]
  },
  {
   "cell_type": "markdown",
   "metadata": {},
   "source": [
    "Question - 1.2:\n",
    "\n",
    "Write a Python Program to implement your own myfilter() function which works exactly like Python's built-in function filter() "
   ]
  },
  {
   "cell_type": "code",
   "execution_count": 3,
   "metadata": {},
   "outputs": [
    {
     "name": "stdout",
     "output_type": "stream",
     "text": [
      "Filter only postive integers on list [0,2,-3,5,-6,-2,-9,6] using custom filter function[2, 5, 6]\n"
     ]
    }
   ],
   "source": [
    "# Custom filter function \n",
    "def myfilter(anyfunc, sequence):\n",
    "\n",
    " # Initialize empty list\n",
    " result = []\n",
    " # iterate over sequence of items in sequence and apply filter function\n",
    " for item in sequence:\n",
    "  if anyfunc(item):\n",
    "   result.append(item)\n",
    "\n",
    " # return final output\n",
    " return result\n",
    "\n",
    "# test myfilter function\n",
    "def ispositive(x):\n",
    " if (x <= 0): \n",
    "  return False \n",
    " else: \n",
    "  return True\n",
    "\n",
    "print('Filter only postive integers on list [0,2,-3,5,-6,-2,-9,6] using custom filter function' + str(myfilter(ispositive, [0,2,-3,5,-6,-2,-9,6])))"
   ]
  },
  {
   "cell_type": "markdown",
   "metadata": {},
   "source": [
    "Question-2:\n",
    " \n",
    "Implement List comprehensions to produce the following lists. \n",
    " \n",
    "Write List comprehensions to produce the following Lists \n",
    " \n",
    "i) ['A', 'C', 'A', 'D', 'G', 'I', ’L’, ‘ D’] \n",
    " \n",
    "ii) ['x', 'xx', 'xxx', 'xxxx', 'y', 'yy', 'yyy', 'yyyy', 'z', 'zz', 'zzz', 'zzzz'] \n",
    " \n",
    "iii) ['x', 'y', 'z', 'xx', 'yy', 'zz', 'xx', 'yy', 'zz', 'xxxx', 'yyyy', 'zzzz'] \n",
    " \n",
    "iv) [[2], [3], [4], [3], [4], [5], [4], [5], [6]] \n",
    " \n",
    "v) [[2, 3, 4, 5], [3, 4, 5, 6], [4, 5, 6, 7], [5, 6, 7, 8]] \n",
    " \n",
    "vi) [(1, 1), (2, 1), (3, 1), (1, 2), (2, 2), (3, 2), (1, 3), (2, 3), (3, 3)] "
   ]
  },
  {
   "cell_type": "code",
   "execution_count": 1,
   "metadata": {},
   "outputs": [
    {
     "name": "stdout",
     "output_type": "stream",
     "text": [
      "Enter Some word: ACADGILD\n",
      "The result of required word into list is => ['A', 'C', 'A', 'D', 'G', 'I', 'L', 'D']\n"
     ]
    }
   ],
   "source": [
    "# List comprehension for this ['A', 'C', 'A', 'D', 'G', 'I', ’L’, ‘ D’] :\n",
    "\n",
    "# The word which is given in the question:\n",
    "given_word = input(\"Enter Some word: \")\n",
    "\n",
    "# The required logic to perform the required output:\n",
    "word_list = [ word for word in given_word ]\n",
    "\n",
    "# The word we're printing them into the list dividing and passing them to the list:\n",
    "print (\"The result of required word into list is => \" + str(word_list))"
   ]
  },
  {
   "cell_type": "code",
   "execution_count": 5,
   "metadata": {},
   "outputs": [
    {
     "name": "stdout",
     "output_type": "stream",
     "text": [
      "Enter the list items:x y z\n",
      "The list comprehension for the given input_list is: ['x', 'xx', 'xxx', 'xxxx', 'y', 'yy', 'yyy', 'yyyy', 'z', 'zz', 'zzz', 'zzzz']\n"
     ]
    }
   ],
   "source": [
    "# List comprehension for  ['x', 'xx', 'xxx', 'xxxx', 'y', 'yy', 'yyy', 'yyyy', 'z', 'zz', 'zzz', 'zzzz'] :\n",
    "\n",
    "# The lsit which is given in the question:\n",
    "input_list = input('Enter the list items:').split()\n",
    "\n",
    "result = [ item*num for item in input_list for num in range(1,5)  ]\n",
    "\n",
    "print(\"The list comprehension for the given input_list is: \"+ str(result))\n"
   ]
  },
  {
   "cell_type": "code",
   "execution_count": 6,
   "metadata": {},
   "outputs": [
    {
     "name": "stdout",
     "output_type": "stream",
     "text": [
      "Enter the list items:x y z\n",
      "The list comprehension for the given input_list is:['x', 'y', 'z', 'xx', 'yy', 'zz', 'xxx', 'yyy', 'zzz', 'xxxx', 'yyyy', 'zzzz']\n"
     ]
    }
   ],
   "source": [
    "# List comprehension for ['x', 'y', 'z', 'xx', 'yy', 'zz', 'xxx', 'yyy', 'zzz', 'xxxx', 'yyyy', 'zzzz']\n",
    "\n",
    "# The list which is given in the question:\n",
    "input_list = input('Enter the list items:').split()\n",
    "\n",
    "result = [ item*num for num in range(1,5) for item in input_list  ]\n",
    "\n",
    "print(\"The list comprehension for the given input_list is:\" +   str(result))\n"
   ]
  },
  {
   "cell_type": "code",
   "execution_count": 15,
   "metadata": {},
   "outputs": [
    {
     "name": "stdout",
     "output_type": "stream",
     "text": [
      "The list comprehension is:[[2], [3], [4], [3], [4], [5], [4], [5], [6]]\n"
     ]
    }
   ],
   "source": [
    "''' List comprehension for [[2], [3], [4], [3], [4], [5], [4], [5], [6]] '''\n",
    "\n",
    "# The list which is given in the question:\n",
    "input_list = [2,3,4]\n",
    "\n",
    "result = [ [item+num] for item in input_list for num in range(0,3)]\n",
    "\n",
    "print(\"The list comprehension is:\" +  str(result))"
   ]
  },
  {
   "cell_type": "code",
   "execution_count": 16,
   "metadata": {},
   "outputs": [
    {
     "name": "stdout",
     "output_type": "stream",
     "text": [
      "[2,3,4,5] =>[[2, 3, 4, 5], [3, 4, 5, 6], [4, 5, 6, 7], [5, 6, 7, 8]]\n"
     ]
    }
   ],
   "source": [
    "''' List comprehension for [[2, 3, 4, 5], [3, 4, 5, 6], [4, 5, 6, 7], [5, 6, 7, 8]] '''\n",
    "\n",
    "# The list which is given in the question:\n",
    "input_list = [2,3,4,5]\n",
    "\n",
    "result = [ [item+num for item in input_list] for num in range(0,4)]\n",
    "\n",
    "print(\"The list comprehension is:\" +  str(result))"
   ]
  },
  {
   "cell_type": "code",
   "execution_count": 17,
   "metadata": {},
   "outputs": [
    {
     "name": "stdout",
     "output_type": "stream",
     "text": [
      "The list comprehension is:[(1, 1), (2, 1), (3, 1), (1, 2), (2, 2), (3, 2), (1, 3), (2, 3), (3, 3)]\n"
     ]
    }
   ],
   "source": [
    "''' List comprehension for [(1, 1), (2, 1), (3, 1), (1, 2), (2, 2), (3, 2), (1, 3), (2, 3), (3, 3)] '''\n",
    "\n",
    "# The list which is given in the question:\n",
    "input_list=[1,2,3]\n",
    "\n",
    "result = [ (b,a) for a in input_list for b in input_list]\n",
    "\n",
    "print(\"The list comprehension is:\" +  str(result))"
   ]
  },
  {
   "cell_type": "code",
   "execution_count": null,
   "metadata": {},
   "outputs": [],
   "source": []
  },
  {
   "cell_type": "markdown",
   "metadata": {},
   "source": [
    "Question - 3: \n",
    "\n",
    "\n",
    "Implement a function longestWord() that takes a list of words and returns the longest one."
   ]
  },
  {
   "cell_type": "code",
   "execution_count": 20,
   "metadata": {},
   "outputs": [
    {
     "name": "stdout",
     "output_type": "stream",
     "text": [
      "Enter the words:MachineLeraing DEEpLearing ARTIFICIALINTELLIGENCE\n",
      "Longest word in list_words is:ARTIFICIALINTELLIGENCE\n"
     ]
    }
   ],
   "source": [
    "# The functools module is for higher-order functions: \n",
    "# functions that act on or return other functions\n",
    "from functools import reduce\n",
    "\n",
    "# Taking the words from the user through input function\n",
    "# which was seperated by the split() function:\n",
    "list_words = input('Enter the words:').split()\n",
    "\n",
    "# Function to compare and reduce list to the result\n",
    "def longestWord(list_words): \n",
    " return reduce( (lambda x,y:y if len(y) > len(x) else x), list_words )\n",
    "\n",
    "# Printing the result as follows:\n",
    "print('Longest word in list_words is:' + longestWord(list_words) )"
   ]
  },
  {
   "cell_type": "code",
   "execution_count": null,
   "metadata": {},
   "outputs": [],
   "source": []
  }
 ],
 "metadata": {
  "kernelspec": {
   "display_name": "Python 3",
   "language": "python",
   "name": "python3"
  },
  "language_info": {
   "codemirror_mode": {
    "name": "ipython",
    "version": 3
   },
   "file_extension": ".py",
   "mimetype": "text/x-python",
   "name": "python",
   "nbconvert_exporter": "python",
   "pygments_lexer": "ipython3",
   "version": "3.7.4"
  }
 },
 "nbformat": 4,
 "nbformat_minor": 2
}
