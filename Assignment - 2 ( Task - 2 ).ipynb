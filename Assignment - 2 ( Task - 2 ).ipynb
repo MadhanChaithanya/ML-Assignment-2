{
 "cells": [
  {
   "cell_type": "markdown",
   "metadata": {},
   "source": [
    "# Assignment - 2 ( Task - 2 )"
   ]
  },
  {
   "cell_type": "markdown",
   "metadata": {},
   "source": [
    "Question-1.1:\n",
    "\n",
    "Write a Python Program(with class concepts) to find the area of the triangle using the below formula. \n",
    " \n",
    "area = (s*(s-a)*(s-b)*(s-c)) ** 0.5 \n",
    " \n",
    "Function to take the length of the sides of triangle from user should be defined in the parent class and function to calculate the area should be defined in subclass. "
   ]
  },
  {
   "cell_type": "code",
   "execution_count": 2,
   "metadata": {},
   "outputs": [
    {
     "name": "stdout",
     "output_type": "stream",
     "text": [
      "Initialised Utils Child class\n",
      "Initialised Triagle super class [4,5,6]\n",
      "7.5\n",
      "Area of triangle = 9.921567416492215\n"
     ]
    }
   ],
   "source": [
    "class Triangle:\n",
    " def __init__(self, side1, side2, side3):\n",
    "  self.side1 = side1\n",
    "  self.side2 = side2\n",
    "  self.side3 = side3\n",
    "  print (\"Initialised Triagle super class [\" +  str(side1) + \",\" + str(side2) + \",\" + str(side3) + \"]\")\n",
    "\n",
    "class Triangle_Utilities(Triangle):\n",
    " \n",
    " def __init__(self, side1, side2, side3):\n",
    "  print (\"Initialised Utils Child class\" )\n",
    "  super(Triangle_Utilities, self).__init__(side1, side2, side3)\n",
    "\n",
    " def get_area(self):\n",
    "  s = (self.side1 + self.side2 + self.side3)/2\n",
    "  print (str(s))\n",
    "  return (s*(s-self.side1)*(s-self.side2)*(s-self.side3))**0.5\n",
    "\n",
    "instance = Triangle_Utilities(4,5,6)\n",
    "print (\"Area of triangle = \" + str(instance.get_area()) )"
   ]
  },
  {
   "cell_type": "markdown",
   "metadata": {},
   "source": [
    "Question- 1.2:\n",
    "\n",
    "Write a function filter_long_words() that takes a list of words and an integer n and returns the list\n",
    "of words that are longer than n."
   ]
  },
  {
   "cell_type": "code",
   "execution_count": 1,
   "metadata": {},
   "outputs": [
    {
     "name": "stdout",
     "output_type": "stream",
     "text": [
      "['abcde', 'zxcw']\n"
     ]
    }
   ],
   "source": [
    "def filter_long_words(words, n):\n",
    "    return [word for word in words if len(word) > n]\n",
    "\n",
    "\n",
    "if __name__ == \"__main__\":\n",
    "    print(filter_long_words(['a', 'avg', 'abcde', 'zxcw', 'b'], 3))"
   ]
  },
  {
   "cell_type": "markdown",
   "metadata": {},
   "source": [
    "Question-2.1\n",
    "\n",
    "Write a Python program using function concept that maps  list of words into a list of integers representing the lengths of the corresponding words​. \n",
    " Hint: ​If a list [ ab,cde,erty] is passed on to the python function output should come as [2,3,4] \n",
    " Here 2,3 and 4 are the lengths of the words in the list. "
   ]
  },
  {
   "cell_type": "code",
   "execution_count": 2,
   "metadata": {},
   "outputs": [
    {
     "name": "stdout",
     "output_type": "stream",
     "text": [
      "Enter Words:Learning Python is very Easy\n",
      "word lengths in list is: [8, 6, 2, 4, 4]\n"
     ]
    }
   ],
   "source": [
    "# taking input from the user and spliting them into a list\n",
    "wordlist = input(\"Enter Words:\").split()\n",
    "\n",
    "# in that list making an function to find the length of the corresponding word:\n",
    "def wordlength(wordlist):\n",
    " return list(map(lambda x: len(x), wordlist))\n",
    "\n",
    "# The required output is displaying under the print function by converting them into the string function:\n",
    "print (\"word lengths in list is: \" + str(wordlength(wordlist)))"
   ]
  },
  {
   "cell_type": "markdown",
   "metadata": {},
   "source": [
    "Question-2.2 :\n",
    " \n",
    "Write a Python function which takes a character (i.e. a string of length 1) \n",
    "and returns True if it is a vowel, False otherwise. "
   ]
  },
  {
   "cell_type": "code",
   "execution_count": 12,
   "metadata": {},
   "outputs": [
    {
     "name": "stdout",
     "output_type": "stream",
     "text": [
      "Enter Character to Check:u\n",
      "u is a Vowel\n"
     ]
    }
   ],
   "source": [
    "# creating a logoc behind of the vowel checking by enter a first letter then it will decide it's a\n",
    "# vowel or not.\n",
    "\n",
    "def check(letter):\n",
    "    lower_case=['a','e','i','o','u'] # passing a list in lower case letters\n",
    "    upper_case=['A','E','I','O','U'] # passing a list in upper case letters\n",
    "    if(letter in lower_case) or (letter in upper_case):\n",
    "        return True\n",
    "    else:\n",
    "        return False\n",
    "    \n",
    "# user can enter the character based on uopn of that it will check whether it's a character or not\n",
    "character = input('Enter Character to Check:')\n",
    "if check(character):\n",
    "    print(character,'is a Vowel')\n",
    "else:\n",
    "    print(character,'is not a Vowel')"
   ]
  },
  {
   "cell_type": "code",
   "execution_count": null,
   "metadata": {},
   "outputs": [],
   "source": []
  }
 ],
 "metadata": {
  "kernelspec": {
   "display_name": "Python 3",
   "language": "python",
   "name": "python3"
  },
  "language_info": {
   "codemirror_mode": {
    "name": "ipython",
    "version": 3
   },
   "file_extension": ".py",
   "mimetype": "text/x-python",
   "name": "python",
   "nbconvert_exporter": "python",
   "pygments_lexer": "ipython3",
   "version": "3.7.4"
  }
 },
 "nbformat": 4,
 "nbformat_minor": 2
}
